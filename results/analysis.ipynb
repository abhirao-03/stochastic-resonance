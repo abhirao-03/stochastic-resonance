{
 "cells": [
  {
   "cell_type": "code",
   "execution_count": 24,
   "metadata": {},
   "outputs": [],
   "source": [
    "import pandas as pd"
   ]
  },
  {
   "cell_type": "code",
   "execution_count": 25,
   "metadata": {},
   "outputs": [],
   "source": [
    "df = pd.read_pickle('test.pkl')"
   ]
  },
  {
   "cell_type": "code",
   "execution_count": 26,
   "metadata": {},
   "outputs": [
    {
     "name": "stdout",
     "output_type": "stream",
     "text": [
      "    trajectory  interval_length interval_value     well_type\n",
      "30           6         0.010000       positive  shallow well\n",
      "31           6         0.010000       negative     deep well\n",
      "32           6         0.010000       positive  shallow well\n",
      "33           6         0.070001       negative     deep well\n",
      "34           6         0.050001       positive  shallow well\n",
      "35           6         0.010000       negative     deep well\n",
      "36           6         0.010000       positive  shallow well\n",
      "37           6       999.829998       negative     deep well\n",
      "\n",
      "\n",
      "    trajectory  interval_length interval_value     well_type\n",
      "38           7         0.010000       positive  shallow well\n",
      "39           7         0.010000       negative     deep well\n",
      "40           7        13.850139       positive  shallow well\n",
      "41           7         0.040000       negative     deep well\n",
      "42           7         0.050001       positive  shallow well\n",
      "43           7       986.039860       negative     deep well\n",
      "\n",
      "\n",
      "    trajectory  interval_length interval_value     well_type\n",
      "44           8             0.01       positive  shallow well\n",
      "45           8           999.99       negative     deep well\n",
      "\n",
      "\n",
      "    trajectory  interval_length interval_value     well_type\n",
      "46           9         0.040000       positive  shallow well\n",
      "47           9         0.010000       negative     deep well\n",
      "48           9         0.020000       positive  shallow well\n",
      "49           9         0.090001       negative     deep well\n",
      "50           9         0.010000       positive  shallow well\n",
      "51           9         0.040000       negative     deep well\n",
      "52           9         0.040000       positive  shallow well\n",
      "53           9         0.010000       negative     deep well\n",
      "54           9         0.010000       positive  shallow well\n",
      "55           9         0.010000       negative     deep well\n",
      "56           9         0.140001       positive  shallow well\n",
      "57           9         0.010000       negative     deep well\n",
      "58           9        16.820168       positive  shallow well\n",
      "59           9         0.010000       negative     deep well\n",
      "60           9         0.010000       positive  shallow well\n",
      "61           9       982.729827       negative     deep well\n",
      "\n",
      "\n"
     ]
    }
   ],
   "source": [
    "for i in range(6, 10):\n",
    "    print(df[df['trajectory'] == i])\n",
    "    print('\\n')"
   ]
  }
 ],
 "metadata": {
  "kernelspec": {
   "display_name": "base",
   "language": "python",
   "name": "python3"
  },
  "language_info": {
   "codemirror_mode": {
    "name": "ipython",
    "version": 3
   },
   "file_extension": ".py",
   "mimetype": "text/x-python",
   "name": "python",
   "nbconvert_exporter": "python",
   "pygments_lexer": "ipython3",
   "version": "3.12.4"
  }
 },
 "nbformat": 4,
 "nbformat_minor": 2
}
