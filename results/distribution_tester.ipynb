{
 "cells": [
  {
   "cell_type": "code",
   "execution_count": null,
   "metadata": {},
   "outputs": [],
   "source": [
    "import numpy as np\n",
    "from numpy import random\n",
    "from tqdm import tqdm\n",
    "import matplotlib.pyplot as plt\n",
    "import scipy.stats as stats"
   ]
  },
  {
   "cell_type": "code",
   "execution_count": null,
   "metadata": {},
   "outputs": [],
   "source": [
    "dt = 0.01\n",
    "time_horizon = 1000\n",
    "num_steps = int(time_horizon/dt)\n",
    "\n",
    "num_trajectories = 10000\n",
    "\n",
    "noise = random.normal(loc=0.0, scale=dt**(1/2), size=(num_trajectories, num_steps))"
   ]
  },
  {
   "cell_type": "code",
   "execution_count": null,
   "metadata": {},
   "outputs": [],
   "source": [
    "x_init = -1\n",
    "jump_mult = 3\n",
    "t = np.linspace(0, time_horizon, num_steps)\n",
    "epsilon = (4.29 * 2 / np.log(time_horizon)) * jump_mult"
   ]
  },
  {
   "cell_type": "code",
   "execution_count": null,
   "metadata": {},
   "outputs": [],
   "source": [
    "def const_neg_potential(x, t, period=100):\n",
    "    \"\"\"Defines the potential function.\"\"\"\n",
    "    t = 25\n",
    "    a1, a2, a3, a4, a5, a6 = 0, -3.2, 3*np.sin(2*np.pi*t/period), 0.1, -(3/5)*3*np.sin(2*np.pi*t/period), 1\n",
    "    all_scale = 1.13\n",
    "    \n",
    "    return all_scale * (a6*6*x**5 + a5*5*x**4 + a4*4*x**3 + a3*3*x**2 + a2*2*x + a1)\n",
    "\n",
    "def mu(x, t):\n",
    "    return -const_neg_potential(x, t)\n",
    "\n",
    "def sigma(x, t):\n",
    "    return epsilon ** (1/2)"
   ]
  },
  {
   "cell_type": "code",
   "execution_count": null,
   "metadata": {},
   "outputs": [],
   "source": [
    "def simulate(x_init, dt, num_trajectories, num_steps, time_vec, noise, delta=6):\n",
    "    jump_times = np.empty((num_trajectories,))\n",
    "    x = np.zeros((num_steps,))\n",
    "    x[0] = x_init\n",
    "    \n",
    "    for j in tqdm(range(num_trajectories)):\n",
    "        sign_change_detected = False\n",
    "        steps_since_change = 0\n",
    "        initial_sign = np.sign(x[0])\n",
    "        potential_jump_time = None\n",
    "        \n",
    "        for i in range(num_steps - 1):\n",
    "            curr_t = time_vec[i]\n",
    "            curr_x = x[i]\n",
    "            dW = noise[j, i]\n",
    "            \n",
    "            x[i+1] = (curr_x + \n",
    "                      mu(curr_x, curr_t) * dt + \n",
    "                      sigma(curr_x, curr_t) * dW)\n",
    "            \n",
    "            # If we haven't detected a sign change yet\n",
    "            if not sign_change_detected:\n",
    "                if np.sign(x[i+1]) != initial_sign:\n",
    "                    sign_change_detected = True\n",
    "                    steps_since_change = 0\n",
    "                    potential_jump_time = curr_t\n",
    "            \n",
    "            # If we're monitoring a potential zone transition\n",
    "            elif steps_since_change < delta:\n",
    "                steps_since_change += 1\n",
    "                # If sign reverts back to initial sign, cancel the monitoring\n",
    "                if np.sign(x[i+1]) == initial_sign:\n",
    "                    sign_change_detected = False\n",
    "                    steps_since_change = 0\n",
    "                    potential_jump_time = None\n",
    "                \n",
    "                # If we've monitored for delta steps and sign change persists\n",
    "                if steps_since_change == delta:\n",
    "                    jump_times[j] = potential_jump_time\n",
    "                    break\n",
    "        \n",
    "        # If we reach the end without confirming a transition\n",
    "        if not sign_change_detected or steps_since_change < delta:\n",
    "            jump_times[j] = np.nan\n",
    "    \n",
    "    return x, jump_times"
   ]
  },
  {
   "cell_type": "code",
   "execution_count": null,
   "metadata": {},
   "outputs": [],
   "source": [
    "x, jump_times = simulate(x_init, dt, num_trajectories, num_steps, t, noise)\n",
    "data = jump_times.copy()"
   ]
  },
  {
   "cell_type": "markdown",
   "metadata": {},
   "source": [
    "---"
   ]
  },
  {
   "cell_type": "code",
   "execution_count": null,
   "metadata": {},
   "outputs": [],
   "source": [
    "theoretical_rate = 1/(np.exp(1.17 * 2/epsilon))\n",
    "rate = 1/np.mean(data)\n",
    "print(f\"Theoretical rate: {theoretical_rate}, Measured rate: {rate}\")"
   ]
  },
  {
   "cell_type": "code",
   "execution_count": null,
   "metadata": {},
   "outputs": [],
   "source": [
    "x = np.linspace(0, 10, 100)\n",
    "y = rate * np.exp(-rate * x)\n",
    "\n",
    "plt.hist(data, density=True, bins=20, label='Samples')\n",
    "plt.plot(x, y, label=f'Empirical: {np.round(rate, 4)}')\n",
    "plt.plot(x, theoretical_rate * np.exp(-theoretical_rate * x), label=f'Theoretical: {np.round(theoretical_rate, 4)}')\n",
    "plt.title('Density Histogram, Theoretical Rate PDF, Empirical Rate PDF')\n",
    "plt.legend()\n",
    "plt.show()"
   ]
  },
  {
   "cell_type": "code",
   "execution_count": null,
   "metadata": {},
   "outputs": [],
   "source": [
    "def exp_cdf(x, rate=theoretical_rate):\n",
    "    return 1 - np.exp(-rate * x)"
   ]
  },
  {
   "cell_type": "code",
   "execution_count": null,
   "metadata": {},
   "outputs": [],
   "source": [
    "x_uniformed = exp_cdf(data)\n",
    "plt.hist(x_uniformed, density=True, label='Transformed Samples')\n",
    "plt.title('Transformed Samples')\n",
    "plt.ylabel('Density')\n",
    "plt.xlabel('Transformed Value')\n",
    "plt.show()"
   ]
  },
  {
   "cell_type": "code",
   "execution_count": null,
   "metadata": {},
   "outputs": [],
   "source": [
    "uniform = np.random.uniform(0,1, len(data))\n",
    "uniform_sort = np.sort(uniform)\n",
    "\n",
    "plt.scatter(uniform_sort, np.sort(x_uniformed), s=2)\n",
    "plt.title('QQ Plot')\n",
    "plt.xlabel('Uniform Distribution')\n",
    "plt.ylabel('Empirical Distribution')\n",
    "plt.plot([0,1],[0,1], color='red')\n",
    "plt.show()"
   ]
  },
  {
   "cell_type": "code",
   "execution_count": null,
   "metadata": {},
   "outputs": [],
   "source": [
    "stats.anderson(data, dist='expon')\n",
    "# FAIL"
   ]
  },
  {
   "cell_type": "code",
   "execution_count": null,
   "metadata": {},
   "outputs": [],
   "source": [
    "stats.cramervonmises(x_uniformed, 'uniform')\n",
    "# FAIL"
   ]
  },
  {
   "cell_type": "code",
   "execution_count": null,
   "metadata": {},
   "outputs": [],
   "source": [
    "stats.chisquare(x_uniformed)\n",
    "# PASS"
   ]
  },
  {
   "cell_type": "code",
   "execution_count": null,
   "metadata": {},
   "outputs": [],
   "source": [
    "obs_counts, bin_edges = np.histogram(x_uniformed, bins=10)\n",
    "\n",
    "total_count = obs_counts.sum()\n",
    "num_categories = obs_counts.size\n",
    "\n",
    "expected = np.full(num_categories, total_count / num_categories)\n",
    "\n",
    "stats.chisquare(f_obs=obs_counts, f_exp=expected)\n",
    "# FAIL"
   ]
  }
 ],
 "metadata": {
  "kernelspec": {
   "display_name": "base",
   "language": "python",
   "name": "python3"
  },
  "language_info": {
   "codemirror_mode": {
    "name": "ipython",
    "version": 3
   },
   "file_extension": ".py",
   "mimetype": "text/x-python",
   "name": "python",
   "nbconvert_exporter": "python",
   "pygments_lexer": "ipython3",
   "version": "3.12.4"
  }
 },
 "nbformat": 4,
 "nbformat_minor": 2
}
