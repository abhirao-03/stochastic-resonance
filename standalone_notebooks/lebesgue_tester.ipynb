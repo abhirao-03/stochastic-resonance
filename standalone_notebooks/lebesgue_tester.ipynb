{
 "cells": [
  {
   "cell_type": "code",
   "execution_count": 13,
   "metadata": {},
   "outputs": [],
   "source": [
    "import numpy as np\n",
    "import numpy.random as random\n",
    "import matplotlib.pyplot as plt\n",
    "from tqdm import tqdm"
   ]
  },
  {
   "cell_type": "code",
   "execution_count": 14,
   "metadata": {},
   "outputs": [],
   "source": [
    "v1 = 0.25\n",
    "V1 = 1\n",
    "c = 1\n",
    "a1 = 3*(V1+v1)-3*c\n",
    "b1 = 15 / 8 *(v1-V1)\n",
    "\n",
    "def LHS_well(x):\n",
    "    return a1 * (x ** 6) / 6 + b1 * (x ** 5) / 5 + (c - a1) * (x ** 4) / 4 - b1 * (x **3) / 3 - c * (x ** 2) / 2\n",
    "\n",
    "v2 = 1\n",
    "V2 = 0.25\n",
    "a2 = 3*(V2+v2)-3*c\n",
    "b2 = 15 / 8 *(v2-V2)\n",
    "\n",
    "def RHS_well(x):\n",
    "    return a2 * (x ** 6) / 6 + b2 * (x ** 5) / 5 + (c - a2) * (x ** 4) / 4 - b2 * (x **3) / 3 - c * (x ** 2) / 2\n",
    "\n",
    "def LHS_prime(x):\n",
    "    return x*(a1*(x**4)+b1*(x**3)+(c-a1)*(x**2)-b1*x-1)\n",
    "\n",
    "def RHS_prime(x):\n",
    "    return x*(a2*(x**4)-b2*(x**3)+(c-a2)*(x**2)+b2*x-1)\n",
    "\n",
    "def U(x,t,T):\n",
    "    phase = (t/T) % 1\n",
    "    if phase < 0.5:\n",
    "        return RHS_well(x)\n",
    "    else:\n",
    "        return LHS_well(x)\n",
    "    \n",
    "def U_prime(x,t,T):\n",
    "    phase = (t/T) % 1\n",
    "    if t == T:\n",
    "        return LHS_prime\n",
    "    if phase < 0.5:\n",
    "        return RHS_prime(x)\n",
    "    else:\n",
    "        return LHS_prime(x)\n",
    "    \n",
    "def Time(lambd, epsilon):\n",
    "    return np.exp(lambd / epsilon)\n"
   ]
  },
  {
   "cell_type": "code",
   "execution_count": 15,
   "metadata": {},
   "outputs": [],
   "source": [
    "def euler_maruyama(X0, T, dt, epsilon, num_steps, trajectories):\n",
    "    X = np.full(trajectories, X0)\n",
    "    for step in range(num_steps):\n",
    "        t = step * dt\n",
    "        dW = np.sqrt(dt) * np.random.randn(trajectories)\n",
    "        X = X - U_prime(X, t, T) * dt + np.sqrt(epsilon) * dW\n",
    "    return X"
   ]
  },
  {
   "cell_type": "code",
   "execution_count": 16,
   "metadata": {},
   "outputs": [
    {
     "name": "stdout",
     "output_type": "stream",
     "text": [
      "[0.15  0.175 0.2   0.225]\n",
      "[0.275 0.3   0.325 0.35 ]\n"
     ]
    }
   ],
   "source": [
    "v = 0.25\n",
    "\n",
    "smaller = np.arange(v-0.1, v, 0.025)\n",
    "larger = np.arange(v+0.025, v+0.11, 0.025)\n",
    "\n",
    "print(smaller)\n",
    "print(larger)\n"
   ]
  },
  {
   "cell_type": "code",
   "execution_count": 5,
   "metadata": {},
   "outputs": [
    {
     "name": "stdout",
     "output_type": "stream",
     "text": [
      "epsilon=0.020 -> Average Probability = 0.986\n",
      "epsilon=0.044 -> Average Probability = 0.966\n",
      "epsilon=0.068 -> Average Probability = 0.957\n",
      "epsilon=0.092 -> Average Probability = 0.959\n",
      "epsilon=0.116 -> Average Probability = 0.949\n",
      "epsilon=0.140 -> Average Probability = 0.958\n",
      "epsilon=0.164 -> Average Probability = 0.949\n",
      "epsilon=0.188 -> Average Probability = 0.952\n",
      "epsilon=0.212 -> Average Probability = 0.937\n",
      "epsilon=0.236 -> Average Probability = 0.940\n",
      "epsilon=0.260 -> Average Probability = 0.941\n",
      "epsilon=0.284 -> Average Probability = 0.939\n",
      "epsilon=0.308 -> Average Probability = 0.924\n",
      "epsilon=0.332 -> Average Probability = 0.917\n",
      "epsilon=0.356 -> Average Probability = 0.916\n",
      "epsilon=0.380 -> Average Probability = 0.916\n",
      "epsilon=0.404 -> Average Probability = 0.910\n",
      "epsilon=0.428 -> Average Probability = 0.901\n",
      "epsilon=0.452 -> Average Probability = 0.887\n",
      "epsilon=0.476 -> Average Probability = 0.894\n",
      "epsilon=0.500 -> Average Probability = 0.885\n"
     ]
    }
   ],
   "source": [
    "epsilons = np.arange(0.02, 0.51, 0.024)\n",
    "\n",
    "X0 = 1.0                \n",
    "dt = 0.02               \n",
    "num_trajectories = 1000  \n",
    "\n",
    "avg_p = np.zeros(len(epsilons))\n",
    "\n",
    "for i, epsilon in enumerate(epsilons):\n",
    "    for j, lambda_val in enumerate(smaller):\n",
    "        T_epsilon = float(np.exp(lambda_val / epsilon))\n",
    "        num_steps = int(T_epsilon / dt)\n",
    "        \n",
    "        final_positions = euler_maruyama(X0, T_epsilon, dt, epsilon, num_steps, num_trajectories)\n",
    "        \n",
    "        prob_deeper = np.mean(final_positions > 0)\n",
    "        avg_p[i] += prob_deeper\n",
    "        #print(f\"epsilon={epsilon:.3f}, lambda={lambda_val:.3f}, T_epsilon={T_epsilon:.2f}, Probability={prob_deeper:.3f}\")\n",
    "    avg_p[i] = avg_p[i] / len(smaller)\n",
    "\n",
    "for i, epsilon in enumerate(epsilons):\n",
    "    print(f\"epsilon={epsilon:.3f} -> Average Probability = {avg_p[i]:.3f}\")"
   ]
  },
  {
   "cell_type": "code",
   "execution_count": null,
   "metadata": {},
   "outputs": [],
   "source": [
    "epsilons = np.arange(0.017, 0.037, 0.001)\n",
    "\n",
    "X0 = 1.0          # Initial position (starting in the \"warm\" well)\n",
    "dt = 0.02       # Time step\n",
    "num_trajectories = 1000  # Number of trajectories per parameter pair\n",
    "\n",
    "avg_p = np.zeros(len(epsilons))\n",
    "\n",
    "for i, epsilon in enumerate(epsilons):\n",
    "    for j, lambda_val in enumerate(larger):\n",
    "        T_epsilon = float(np.exp(lambda_val / epsilon))\n",
    "        num_steps = int(T_epsilon / dt)\n",
    "        \n",
    "        final_positions = euler_maruyama(X0, T_epsilon, dt, epsilon, num_steps, num_trajectories)\n",
    "        \n",
    "        prob_deeper = np.mean(final_positions < 0)\n",
    "        avg_p[i] += prob_deeper\n",
    "        #print(f\"epsilon={epsilon:.3f}, lambda={lambda_val:.3f}, T_epsilon={T_epsilon:.2f}, Probability={prob_deeper:.3f}\")\n",
    "    avg_p[i] = avg_p[i] / len(larger)\n",
    "\n",
    "for i, epsilon in enumerate(epsilons):\n",
    "    print(f\"epsilon={epsilon:.3f} -> Average Probability = {avg_p[i]:.3f}\")"
   ]
  },
  {
   "cell_type": "markdown",
   "metadata": {},
   "source": [
    "epsilon=0.025 -> Average Probability = 0.488\n",
    "epsilon=0.050 -> Average Probability = 0.250\n",
    "epsilon=0.075 -> Average Probability = 0.175\n",
    "epsilon=0.100 -> Average Probability = 0.143\n",
    "epsilon=0.125 -> Average Probability = 0.124\n",
    "epsilon=0.150 -> Average Probability = 0.116\n",
    "epsilon=0.175 -> Average Probability = 0.112\n",
    "epsilon=0.200 -> Average Probability = 0.107\n",
    "epsilon=0.225 -> Average Probability = 0.109\n",
    "epsilon=0.250 -> Average Probability = 0.103\n",
    "epsilon=0.275 -> Average Probability = 0.114\n",
    "epsilon=0.300 -> Average Probability = 0.112\n",
    "epsilon=0.325 -> Average Probability = 0.117\n",
    "epsilon=0.350 -> Average Probability = 0.116\n",
    "epsilon=0.375 -> Average Probability = 0.127\n",
    "epsilon=0.400 -> Average Probability = 0.125\n",
    "epsilon=0.425 -> Average Probability = 0.128\n",
    "epsilon=0.450 -> Average Probability = 0.127\n",
    "epsilon=0.475 -> Average Probability = 0.140\n",
    "epsilon=0.500 -> Average Probability = 0.145\n",
    "epsilon=0.525 -> Average Probability = 0.153"
   ]
  },
  {
   "cell_type": "code",
   "execution_count": null,
   "metadata": {},
   "outputs": [],
   "source": [
    "epsilons = np.array([0.02])\n",
    "larger = np.array([0.3])"
   ]
  },
  {
   "cell_type": "code",
   "execution_count": null,
   "metadata": {},
   "outputs": [
    {
     "name": "stdout",
     "output_type": "stream",
     "text": [
      "sim: 0\n",
      "epsilon=0.020 -> Average Probability = 0.804\n"
     ]
    }
   ],
   "source": [
    "X0 = 1.0          # Initial position (starting in the \"warm\" well)\n",
    "dt = 0.1       # Time step\n",
    "num_trajectories = 1000  # Number of trajectories per parameter pair\n",
    "\n",
    "avg_p = np.zeros(len(epsilons))\n",
    "\n",
    "for i, epsilon in enumerate(epsilons):\n",
    "    for j, lambda_val in enumerate(larger):\n",
    "        T_epsilon = float(np.exp(lambda_val / epsilon))\n",
    "        num_steps = int(T_epsilon / dt)\n",
    "        \n",
    "        final_positions = euler_maruyama(X0, T_epsilon, dt, epsilon, num_steps, num_trajectories)\n",
    "        \n",
    "        \n",
    "        prob_deeper = np.mean(final_positions < 0)\n",
    "        avg_p[i] += prob_deeper\n",
    "        print(\"sim:\", j )\n",
    "    avg_p[i] = avg_p[i] / len(larger)\n",
    "\n",
    "for i, epsilon in enumerate(epsilons):\n",
    "    print(f\"epsilon={epsilon:.3f} -> Average Probability = {avg_p[i]:.3f}\")"
   ]
  },
  {
   "cell_type": "markdown",
   "metadata": {},
   "source": [
    "epsilon=0.020 -> Average Probability = 0.804"
   ]
  },
  {
   "cell_type": "code",
   "execution_count": null,
   "metadata": {},
   "outputs": [
    {
     "name": "stdout",
     "output_type": "stream",
     "text": [
      "sim: 0\n",
      "epsilon=0.018 -> Average Probability = 0.876\n"
     ]
    }
   ],
   "source": [
    "epsilons = np.array([0.018])\n",
    "\n",
    "avg_p = np.zeros(len(epsilons))\n",
    "\n",
    "for i, epsilon in enumerate(epsilons):\n",
    "    for j, lambda_val in enumerate(larger):\n",
    "        T_epsilon = float(np.exp(lambda_val / epsilon))\n",
    "        num_steps = int(T_epsilon / dt)\n",
    "        \n",
    "        final_positions = euler_maruyama(X0, T_epsilon, dt, epsilon, num_steps, num_trajectories)\n",
    "        \n",
    "        \n",
    "        prob_deeper = np.mean(final_positions < 0)\n",
    "        avg_p[i] += prob_deeper\n",
    "        print(\"sim:\", j )\n",
    "    avg_p[i] = avg_p[i] / len(larger)\n",
    "\n",
    "for i, epsilon in enumerate(epsilons):\n",
    "    print(f\"epsilon={epsilon:.3f} -> Average Probability = {avg_p[i]:.3f}\")"
   ]
  },
  {
   "cell_type": "markdown",
   "metadata": {},
   "source": [
    "epsilon=0.018 -> Average Probability = 0.876"
   ]
  },
  {
   "cell_type": "code",
   "execution_count": 5,
   "metadata": {},
   "outputs": [
    {
     "name": "stdout",
     "output_type": "stream",
     "text": [
      "sim: 0\n",
      "epsilon=0.017 -> Average Probability = 0.918\n"
     ]
    }
   ],
   "source": [
    "epsilons = np.array([0.017])\n",
    "larger = np.array([0.3])\n",
    "X0 = 1.0          # Initial position (starting in the \"warm\" well)\n",
    "dt = 0.1       # Time step\n",
    "num_trajectories = 1000  # Number of trajectories per parameter pair\n",
    "avg_p = np.zeros(len(epsilons))\n",
    "\n",
    "for i, epsilon in enumerate(epsilons):\n",
    "    for j, lambda_val in enumerate(larger):\n",
    "        T_epsilon = float(np.exp(lambda_val / epsilon))\n",
    "        num_steps = int(T_epsilon / dt)\n",
    "        \n",
    "        final_positions = euler_maruyama(X0, T_epsilon, dt, epsilon, num_steps, num_trajectories)\n",
    "        \n",
    "        \n",
    "        prob_deeper = np.mean(final_positions < 0)\n",
    "        avg_p[i] += prob_deeper\n",
    "        print(\"sim:\", j )\n",
    "    avg_p[i] = avg_p[i] / len(larger)\n",
    "\n",
    "for i, epsilon in enumerate(epsilons):\n",
    "    print(f\"epsilon={epsilon:.3f} -> Average Probability = {avg_p[i]:.3f}\")"
   ]
  },
  {
   "cell_type": "markdown",
   "metadata": {},
   "source": [
    "epsilon=0.017 -> Average Probability = 0.918"
   ]
  },
  {
   "cell_type": "code",
   "execution_count": 10,
   "metadata": {},
   "outputs": [
    {
     "data": {
      "image/png": "[encoded data removed]",
      "text/plain": [
       "<Figure size 1000x600 with 1 Axes>"
      ]
     },
     "metadata": {},
     "output_type": "display_data"
    }
   ],
   "source": [
    "epsilons = [\n",
    "    0.020, 0.044, 0.068, 0.092, 0.116, 0.140, 0.164, 0.188,\n",
    "    0.212, 0.236, 0.260, 0.284, 0.308, 0.332, 0.356, 0.380,\n",
    "    0.404, 0.428, 0.452, 0.476, 0.500\n",
    "]\n",
    "avg_probabilities = [\n",
    "    0.987, 0.964, 0.959, 0.958, 0.955, 0.953, 0.946, 0.941,\n",
    "    0.937, 0.934, 0.928, 0.924, 0.919, 0.918, 0.915, 0.912,\n",
    "    0.910, 0.906, 0.902, 0.899, 0.897\n",
    "]\n",
    "\n",
    "plt.figure(figsize=(10, 6))\n",
    "plt.plot(epsilons, avg_probabilities, marker='o', linestyle='--')\n",
    "\n",
    "# Label axes and set title\n",
    "plt.xlabel('$\\\\epsilon$', fontsize=14)\n",
    "plt.ylabel('Average Probability', fontsize=14)\n",
    "\n",
    "# Remove grid (default is no grid, but ensure it's off)\n",
    "plt.grid(False)\n",
    "\n",
    "# Reverse both axes\n",
    "plt.gca().invert_xaxis()\n",
    "plt.gca().invert_yaxis()\n",
    "\n",
    "plt.tight_layout()\n",
    "plt.savefig('thm1a.svg', transparent=True)"
   ]
  },
  {
   "cell_type": "code",
   "execution_count": 12,
   "metadata": {},
   "outputs": [
    {
     "data": {
      "image/png": "[encoded data removed]",
      "text/plain": [
       "<Figure size 1000x600 with 1 Axes>"
      ]
     },
     "metadata": {},
     "output_type": "display_data"
    }
   ],
   "source": [
    "epsilons = [\n",
    "    0.017, 0.018, 0.020, 0.025, 0.050, 0.075, 0.100, 0.125,\n",
    "    0.150, 0.175, 0.200, 0.225, 0.250, 0.275, 0.300, 0.320,\n",
    "    0.350, 0.375, 0.400, 0.450, 0.500\n",
    "]\n",
    "avg_probabilities = [\n",
    "    0.918, 0.876, 0.804, 0.480, 0.280, 0.175, 0.124, 0.094,\n",
    "    0.083, 0.112, 0.107, 0.103, 0.109, 0.117, 0.130, 0.117,\n",
    "    0.116, 0.127, 0.125, 0.120, 0.145\n",
    "]\n",
    "\n",
    "plt.figure(figsize=(10, 6))\n",
    "plt.plot(epsilons, avg_probabilities, marker='o', linestyle='-')\n",
    "\n",
    "# Label axes and set title\n",
    "plt.xlabel('$\\\\epsilon$')\n",
    "plt.ylabel('Average Probability')\n",
    "plt.title('Average Probability vs. $\\\\epsilon$')\n",
    "\n",
    "# Remove grid\n",
    "plt.grid(False)\n",
    "\n",
    "# Reverse both axes\n",
    "plt.gca().invert_xaxis()\n",
    "plt.gca().invert_yaxis()\n",
    "\n",
    "plt.tight_layout()\n",
    "plt.savefig('thm1b.svg', transparent=True)"
   ]
  }
 ],
 "metadata": {
  "kernelspec": {
   "display_name": "Python 3",
   "language": "python",
   "name": "python3"
  },
  "language_info": {
   "codemirror_mode": {
    "name": "ipython",
    "version": 3
   },
   "file_extension": ".py",
   "mimetype": "text/x-python",
   "name": "python",
   "nbconvert_exporter": "python",
   "pygments_lexer": "ipython3",
   "version": "3.13.0"
  }
 },
 "nbformat": 4,
 "nbformat_minor": 2
}
